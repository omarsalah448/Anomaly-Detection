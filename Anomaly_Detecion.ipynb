{
  "cells": [
    {
      "cell_type": "markdown",
      "metadata": {
        "id": "nn4kab_4mzct"
      },
      "source": [
        "## Importing the libraries"
      ]
    },
    {
      "cell_type": "code",
      "execution_count": 1,
      "metadata": {
        "id": "92U5oizvU_K_",
        "colab": {
          "base_uri": "https://localhost:8080/"
        },
        "outputId": "7c267270-b8eb-43ee-fc59-979fdd71d742"
      },
      "outputs": [
        {
          "output_type": "stream",
          "name": "stdout",
          "text": [
            "Drive already mounted at /content/drive; to attempt to forcibly remount, call drive.mount(\"/content/drive\", force_remount=True).\n"
          ]
        }
      ],
      "source": [
        "import os\n",
        "import copy\n",
        "import math\n",
        "import random\n",
        "import numpy as np\n",
        "import pandas as pd\n",
        "from collections import Counter\n",
        "from sklearn.metrics import f1_score\n",
        "from sklearn.metrics import recall_score\n",
        "from sklearn.metrics import precision_score\n",
        "from sklearn.model_selection import train_test_split\n",
        "from sklearn.neighbors import kneighbors_graph\n",
        "from sklearn.metrics.pairwise import rbf_kernel\n",
        "from sklearn.preprocessing import OneHotEncoder\n",
        "from sklearn.metrics import confusion_matrix\n",
        "from sklearn.cluster import KMeans\n",
        "from sklearn.metrics import pairwise_distances\n",
        "from sklearn.metrics.cluster import contingency_matrix\n",
        "from google.colab import drive\n",
        "drive.mount('/content/drive')"
      ]
    },
    {
      "cell_type": "markdown",
      "metadata": {
        "id": "fxHHoltSm5ux"
      },
      "source": [
        "## Extracting the features"
      ]
    },
    {
      "cell_type": "code",
      "execution_count": 2,
      "metadata": {
        "id": "MBk2y-dRlZl9"
      },
      "outputs": [],
      "source": [
        "featuresPath = \"/content/drive/MyDrive/Colab Notebooks/Anomaly Detection/features.txt\"\n",
        "with open(featuresPath, \"r\") as file:\n",
        "  # splitting at ':' and taking the first word\n",
        "  features = [line.split(':')[0] for line in file]\n",
        "# dropping the first 2 lines as they are unnecessary\n",
        "features.pop(0), features.pop(0)\n",
        "features.append('attack_type')"
      ]
    },
    {
      "cell_type": "code",
      "execution_count": 3,
      "metadata": {
        "id": "s6liltWao1su",
        "colab": {
          "base_uri": "https://localhost:8080/"
        },
        "outputId": "11985fc0-f43a-4ac9-c7ad-cc03ae655f96"
      },
      "outputs": [
        {
          "output_type": "execute_result",
          "data": {
            "text/plain": [
              "41"
            ]
          },
          "metadata": {},
          "execution_count": 3
        }
      ],
      "source": [
        "len(features)"
      ]
    },
    {
      "cell_type": "markdown",
      "metadata": {
        "id": "Q87CiEbQnDF7"
      },
      "source": [
        "## Reading the dataset"
      ]
    },
    {
      "cell_type": "code",
      "execution_count": 4,
      "metadata": {
        "id": "9FTvVJFcWCjX",
        "colab": {
          "base_uri": "https://localhost:8080/",
          "height": 299
        },
        "outputId": "71ace895-e58b-4cda-c81f-b9d64e0d2c8f"
      },
      "outputs": [
        {
          "output_type": "execute_result",
          "data": {
            "text/plain": [
              "  protocol_type service flag  src_bytes  dst_bytes  land  wrong_fragment  \\\n",
              "0           tcp    http   SF        181       5450     0               0   \n",
              "0           tcp    http   SF        239        486     0               0   \n",
              "0           tcp    http   SF        235       1337     0               0   \n",
              "0           tcp    http   SF        219       1337     0               0   \n",
              "0           tcp    http   SF        217       2032     0               0   \n",
              "\n",
              "   urgent  hot  num_failed_logins  ...  dst_host_srv_count  \\\n",
              "0       0    0                  0  ...                   9   \n",
              "0       0    0                  0  ...                  19   \n",
              "0       0    0                  0  ...                  29   \n",
              "0       0    0                  0  ...                  39   \n",
              "0       0    0                  0  ...                  49   \n",
              "\n",
              "   dst_host_same_srv_rate  dst_host_diff_srv_rate  \\\n",
              "0                     1.0                     0.0   \n",
              "0                     1.0                     0.0   \n",
              "0                     1.0                     0.0   \n",
              "0                     1.0                     0.0   \n",
              "0                     1.0                     0.0   \n",
              "\n",
              "   dst_host_same_src_port_rate  dst_host_srv_diff_host_rate  \\\n",
              "0                         0.11                          0.0   \n",
              "0                         0.05                          0.0   \n",
              "0                         0.03                          0.0   \n",
              "0                         0.03                          0.0   \n",
              "0                         0.02                          0.0   \n",
              "\n",
              "   dst_host_serror_rate  dst_host_srv_serror_rate  dst_host_rerror_rate  \\\n",
              "0                   0.0                       0.0                   0.0   \n",
              "0                   0.0                       0.0                   0.0   \n",
              "0                   0.0                       0.0                   0.0   \n",
              "0                   0.0                       0.0                   0.0   \n",
              "0                   0.0                       0.0                   0.0   \n",
              "\n",
              "   dst_host_srv_rerror_rate  attack_type  \n",
              "0                       0.0      normal.  \n",
              "0                       0.0      normal.  \n",
              "0                       0.0      normal.  \n",
              "0                       0.0      normal.  \n",
              "0                       0.0      normal.  \n",
              "\n",
              "[5 rows x 41 columns]"
            ],
            "text/html": [
              "\n",
              "  <div id=\"df-1e28fa17-803b-4f7f-9f07-e6e5343e179f\">\n",
              "    <div class=\"colab-df-container\">\n",
              "      <div>\n",
              "<style scoped>\n",
              "    .dataframe tbody tr th:only-of-type {\n",
              "        vertical-align: middle;\n",
              "    }\n",
              "\n",
              "    .dataframe tbody tr th {\n",
              "        vertical-align: top;\n",
              "    }\n",
              "\n",
              "    .dataframe thead th {\n",
              "        text-align: right;\n",
              "    }\n",
              "</style>\n",
              "<table border=\"1\" class=\"dataframe\">\n",
              "  <thead>\n",
              "    <tr style=\"text-align: right;\">\n",
              "      <th></th>\n",
              "      <th>protocol_type</th>\n",
              "      <th>service</th>\n",
              "      <th>flag</th>\n",
              "      <th>src_bytes</th>\n",
              "      <th>dst_bytes</th>\n",
              "      <th>land</th>\n",
              "      <th>wrong_fragment</th>\n",
              "      <th>urgent</th>\n",
              "      <th>hot</th>\n",
              "      <th>num_failed_logins</th>\n",
              "      <th>...</th>\n",
              "      <th>dst_host_srv_count</th>\n",
              "      <th>dst_host_same_srv_rate</th>\n",
              "      <th>dst_host_diff_srv_rate</th>\n",
              "      <th>dst_host_same_src_port_rate</th>\n",
              "      <th>dst_host_srv_diff_host_rate</th>\n",
              "      <th>dst_host_serror_rate</th>\n",
              "      <th>dst_host_srv_serror_rate</th>\n",
              "      <th>dst_host_rerror_rate</th>\n",
              "      <th>dst_host_srv_rerror_rate</th>\n",
              "      <th>attack_type</th>\n",
              "    </tr>\n",
              "  </thead>\n",
              "  <tbody>\n",
              "    <tr>\n",
              "      <th>0</th>\n",
              "      <td>tcp</td>\n",
              "      <td>http</td>\n",
              "      <td>SF</td>\n",
              "      <td>181</td>\n",
              "      <td>5450</td>\n",
              "      <td>0</td>\n",
              "      <td>0</td>\n",
              "      <td>0</td>\n",
              "      <td>0</td>\n",
              "      <td>0</td>\n",
              "      <td>...</td>\n",
              "      <td>9</td>\n",
              "      <td>1.0</td>\n",
              "      <td>0.0</td>\n",
              "      <td>0.11</td>\n",
              "      <td>0.0</td>\n",
              "      <td>0.0</td>\n",
              "      <td>0.0</td>\n",
              "      <td>0.0</td>\n",
              "      <td>0.0</td>\n",
              "      <td>normal.</td>\n",
              "    </tr>\n",
              "    <tr>\n",
              "      <th>0</th>\n",
              "      <td>tcp</td>\n",
              "      <td>http</td>\n",
              "      <td>SF</td>\n",
              "      <td>239</td>\n",
              "      <td>486</td>\n",
              "      <td>0</td>\n",
              "      <td>0</td>\n",
              "      <td>0</td>\n",
              "      <td>0</td>\n",
              "      <td>0</td>\n",
              "      <td>...</td>\n",
              "      <td>19</td>\n",
              "      <td>1.0</td>\n",
              "      <td>0.0</td>\n",
              "      <td>0.05</td>\n",
              "      <td>0.0</td>\n",
              "      <td>0.0</td>\n",
              "      <td>0.0</td>\n",
              "      <td>0.0</td>\n",
              "      <td>0.0</td>\n",
              "      <td>normal.</td>\n",
              "    </tr>\n",
              "    <tr>\n",
              "      <th>0</th>\n",
              "      <td>tcp</td>\n",
              "      <td>http</td>\n",
              "      <td>SF</td>\n",
              "      <td>235</td>\n",
              "      <td>1337</td>\n",
              "      <td>0</td>\n",
              "      <td>0</td>\n",
              "      <td>0</td>\n",
              "      <td>0</td>\n",
              "      <td>0</td>\n",
              "      <td>...</td>\n",
              "      <td>29</td>\n",
              "      <td>1.0</td>\n",
              "      <td>0.0</td>\n",
              "      <td>0.03</td>\n",
              "      <td>0.0</td>\n",
              "      <td>0.0</td>\n",
              "      <td>0.0</td>\n",
              "      <td>0.0</td>\n",
              "      <td>0.0</td>\n",
              "      <td>normal.</td>\n",
              "    </tr>\n",
              "    <tr>\n",
              "      <th>0</th>\n",
              "      <td>tcp</td>\n",
              "      <td>http</td>\n",
              "      <td>SF</td>\n",
              "      <td>219</td>\n",
              "      <td>1337</td>\n",
              "      <td>0</td>\n",
              "      <td>0</td>\n",
              "      <td>0</td>\n",
              "      <td>0</td>\n",
              "      <td>0</td>\n",
              "      <td>...</td>\n",
              "      <td>39</td>\n",
              "      <td>1.0</td>\n",
              "      <td>0.0</td>\n",
              "      <td>0.03</td>\n",
              "      <td>0.0</td>\n",
              "      <td>0.0</td>\n",
              "      <td>0.0</td>\n",
              "      <td>0.0</td>\n",
              "      <td>0.0</td>\n",
              "      <td>normal.</td>\n",
              "    </tr>\n",
              "    <tr>\n",
              "      <th>0</th>\n",
              "      <td>tcp</td>\n",
              "      <td>http</td>\n",
              "      <td>SF</td>\n",
              "      <td>217</td>\n",
              "      <td>2032</td>\n",
              "      <td>0</td>\n",
              "      <td>0</td>\n",
              "      <td>0</td>\n",
              "      <td>0</td>\n",
              "      <td>0</td>\n",
              "      <td>...</td>\n",
              "      <td>49</td>\n",
              "      <td>1.0</td>\n",
              "      <td>0.0</td>\n",
              "      <td>0.02</td>\n",
              "      <td>0.0</td>\n",
              "      <td>0.0</td>\n",
              "      <td>0.0</td>\n",
              "      <td>0.0</td>\n",
              "      <td>0.0</td>\n",
              "      <td>normal.</td>\n",
              "    </tr>\n",
              "  </tbody>\n",
              "</table>\n",
              "<p>5 rows × 41 columns</p>\n",
              "</div>\n",
              "      <button class=\"colab-df-convert\" onclick=\"convertToInteractive('df-1e28fa17-803b-4f7f-9f07-e6e5343e179f')\"\n",
              "              title=\"Convert this dataframe to an interactive table.\"\n",
              "              style=\"display:none;\">\n",
              "        \n",
              "  <svg xmlns=\"http://www.w3.org/2000/svg\" height=\"24px\"viewBox=\"0 0 24 24\"\n",
              "       width=\"24px\">\n",
              "    <path d=\"M0 0h24v24H0V0z\" fill=\"none\"/>\n",
              "    <path d=\"M18.56 5.44l.94 2.06.94-2.06 2.06-.94-2.06-.94-.94-2.06-.94 2.06-2.06.94zm-11 1L8.5 8.5l.94-2.06 2.06-.94-2.06-.94L8.5 2.5l-.94 2.06-2.06.94zm10 10l.94 2.06.94-2.06 2.06-.94-2.06-.94-.94-2.06-.94 2.06-2.06.94z\"/><path d=\"M17.41 7.96l-1.37-1.37c-.4-.4-.92-.59-1.43-.59-.52 0-1.04.2-1.43.59L10.3 9.45l-7.72 7.72c-.78.78-.78 2.05 0 2.83L4 21.41c.39.39.9.59 1.41.59.51 0 1.02-.2 1.41-.59l7.78-7.78 2.81-2.81c.8-.78.8-2.07 0-2.86zM5.41 20L4 18.59l7.72-7.72 1.47 1.35L5.41 20z\"/>\n",
              "  </svg>\n",
              "      </button>\n",
              "      \n",
              "  <style>\n",
              "    .colab-df-container {\n",
              "      display:flex;\n",
              "      flex-wrap:wrap;\n",
              "      gap: 12px;\n",
              "    }\n",
              "\n",
              "    .colab-df-convert {\n",
              "      background-color: #E8F0FE;\n",
              "      border: none;\n",
              "      border-radius: 50%;\n",
              "      cursor: pointer;\n",
              "      display: none;\n",
              "      fill: #1967D2;\n",
              "      height: 32px;\n",
              "      padding: 0 0 0 0;\n",
              "      width: 32px;\n",
              "    }\n",
              "\n",
              "    .colab-df-convert:hover {\n",
              "      background-color: #E2EBFA;\n",
              "      box-shadow: 0px 1px 2px rgba(60, 64, 67, 0.3), 0px 1px 3px 1px rgba(60, 64, 67, 0.15);\n",
              "      fill: #174EA6;\n",
              "    }\n",
              "\n",
              "    [theme=dark] .colab-df-convert {\n",
              "      background-color: #3B4455;\n",
              "      fill: #D2E3FC;\n",
              "    }\n",
              "\n",
              "    [theme=dark] .colab-df-convert:hover {\n",
              "      background-color: #434B5C;\n",
              "      box-shadow: 0px 1px 3px 1px rgba(0, 0, 0, 0.15);\n",
              "      filter: drop-shadow(0px 1px 2px rgba(0, 0, 0, 0.3));\n",
              "      fill: #FFFFFF;\n",
              "    }\n",
              "  </style>\n",
              "\n",
              "      <script>\n",
              "        const buttonEl =\n",
              "          document.querySelector('#df-1e28fa17-803b-4f7f-9f07-e6e5343e179f button.colab-df-convert');\n",
              "        buttonEl.style.display =\n",
              "          google.colab.kernel.accessAllowed ? 'block' : 'none';\n",
              "\n",
              "        async function convertToInteractive(key) {\n",
              "          const element = document.querySelector('#df-1e28fa17-803b-4f7f-9f07-e6e5343e179f');\n",
              "          const dataTable =\n",
              "            await google.colab.kernel.invokeFunction('convertToInteractive',\n",
              "                                                     [key], {});\n",
              "          if (!dataTable) return;\n",
              "\n",
              "          const docLinkHtml = 'Like what you see? Visit the ' +\n",
              "            '<a target=\"_blank\" href=https://colab.research.google.com/notebooks/data_table.ipynb>data table notebook</a>'\n",
              "            + ' to learn more about interactive tables.';\n",
              "          element.innerHTML = '';\n",
              "          dataTable['output_type'] = 'display_data';\n",
              "          await google.colab.output.renderOutput(dataTable, element);\n",
              "          const docLink = document.createElement('div');\n",
              "          docLink.innerHTML = docLinkHtml;\n",
              "          element.appendChild(docLink);\n",
              "        }\n",
              "      </script>\n",
              "    </div>\n",
              "  </div>\n",
              "  "
            ]
          },
          "metadata": {},
          "execution_count": 4
        }
      ],
      "source": [
        "path = \"/content/drive/MyDrive/Colab Notebooks/Anomaly Detection/kddcup.data_10_percent.gz\"\n",
        "df = pd.read_csv(path, compression='gzip', names=features, header=None)\n",
        "df.head()"
      ]
    },
    {
      "cell_type": "code",
      "execution_count": 5,
      "metadata": {
        "colab": {
          "base_uri": "https://localhost:8080/"
        },
        "id": "-GCUxA4RIY6d",
        "outputId": "5bd90661-a53c-4f45-e426-f7192615fef5"
      },
      "outputs": [
        {
          "output_type": "stream",
          "name": "stdout",
          "text": [
            "(494021, 41)\n"
          ]
        }
      ],
      "source": [
        "# Size of train Set\n",
        "print(df.shape)"
      ]
    },
    {
      "cell_type": "code",
      "execution_count": 6,
      "metadata": {
        "id": "_-d0Jn_-CG4V",
        "colab": {
          "base_uri": "https://localhost:8080/",
          "height": 299
        },
        "outputId": "b56b8059-1036-43e7-8196-4363e6ae4934"
      },
      "outputs": [
        {
          "output_type": "execute_result",
          "data": {
            "text/plain": [
              "  protocol_type  service flag  src_bytes  dst_bytes  land  wrong_fragment  \\\n",
              "0           udp  private   SF        105        146     0               0   \n",
              "0           udp  private   SF        105        146     0               0   \n",
              "0           udp  private   SF        105        146     0               0   \n",
              "0           udp  private   SF        105        146     0               0   \n",
              "0           udp  private   SF        105        146     0               0   \n",
              "\n",
              "   urgent  hot  num_failed_logins  ...  dst_host_srv_count  \\\n",
              "0       0    0                  0  ...                 254   \n",
              "0       0    0                  0  ...                 254   \n",
              "0       0    0                  0  ...                 254   \n",
              "0       0    0                  0  ...                 254   \n",
              "0       0    0                  0  ...                 254   \n",
              "\n",
              "   dst_host_same_srv_rate  dst_host_diff_srv_rate  \\\n",
              "0                     1.0                    0.01   \n",
              "0                     1.0                    0.01   \n",
              "0                     1.0                    0.01   \n",
              "0                     1.0                    0.01   \n",
              "0                     1.0                    0.01   \n",
              "\n",
              "   dst_host_same_src_port_rate  dst_host_srv_diff_host_rate  \\\n",
              "0                         0.00                          0.0   \n",
              "0                         0.00                          0.0   \n",
              "0                         0.00                          0.0   \n",
              "0                         0.00                          0.0   \n",
              "0                         0.01                          0.0   \n",
              "\n",
              "   dst_host_serror_rate  dst_host_srv_serror_rate  dst_host_rerror_rate  \\\n",
              "0                   0.0                       0.0                   0.0   \n",
              "0                   0.0                       0.0                   0.0   \n",
              "0                   0.0                       0.0                   0.0   \n",
              "0                   0.0                       0.0                   0.0   \n",
              "0                   0.0                       0.0                   0.0   \n",
              "\n",
              "   dst_host_srv_rerror_rate     attack_type  \n",
              "0                       0.0         normal.  \n",
              "0                       0.0         normal.  \n",
              "0                       0.0         normal.  \n",
              "0                       0.0  snmpgetattack.  \n",
              "0                       0.0  snmpgetattack.  \n",
              "\n",
              "[5 rows x 41 columns]"
            ],
            "text/html": [
              "\n",
              "  <div id=\"df-5eb1e2d0-e3eb-4d13-839e-0b75c4892df4\">\n",
              "    <div class=\"colab-df-container\">\n",
              "      <div>\n",
              "<style scoped>\n",
              "    .dataframe tbody tr th:only-of-type {\n",
              "        vertical-align: middle;\n",
              "    }\n",
              "\n",
              "    .dataframe tbody tr th {\n",
              "        vertical-align: top;\n",
              "    }\n",
              "\n",
              "    .dataframe thead th {\n",
              "        text-align: right;\n",
              "    }\n",
              "</style>\n",
              "<table border=\"1\" class=\"dataframe\">\n",
              "  <thead>\n",
              "    <tr style=\"text-align: right;\">\n",
              "      <th></th>\n",
              "      <th>protocol_type</th>\n",
              "      <th>service</th>\n",
              "      <th>flag</th>\n",
              "      <th>src_bytes</th>\n",
              "      <th>dst_bytes</th>\n",
              "      <th>land</th>\n",
              "      <th>wrong_fragment</th>\n",
              "      <th>urgent</th>\n",
              "      <th>hot</th>\n",
              "      <th>num_failed_logins</th>\n",
              "      <th>...</th>\n",
              "      <th>dst_host_srv_count</th>\n",
              "      <th>dst_host_same_srv_rate</th>\n",
              "      <th>dst_host_diff_srv_rate</th>\n",
              "      <th>dst_host_same_src_port_rate</th>\n",
              "      <th>dst_host_srv_diff_host_rate</th>\n",
              "      <th>dst_host_serror_rate</th>\n",
              "      <th>dst_host_srv_serror_rate</th>\n",
              "      <th>dst_host_rerror_rate</th>\n",
              "      <th>dst_host_srv_rerror_rate</th>\n",
              "      <th>attack_type</th>\n",
              "    </tr>\n",
              "  </thead>\n",
              "  <tbody>\n",
              "    <tr>\n",
              "      <th>0</th>\n",
              "      <td>udp</td>\n",
              "      <td>private</td>\n",
              "      <td>SF</td>\n",
              "      <td>105</td>\n",
              "      <td>146</td>\n",
              "      <td>0</td>\n",
              "      <td>0</td>\n",
              "      <td>0</td>\n",
              "      <td>0</td>\n",
              "      <td>0</td>\n",
              "      <td>...</td>\n",
              "      <td>254</td>\n",
              "      <td>1.0</td>\n",
              "      <td>0.01</td>\n",
              "      <td>0.00</td>\n",
              "      <td>0.0</td>\n",
              "      <td>0.0</td>\n",
              "      <td>0.0</td>\n",
              "      <td>0.0</td>\n",
              "      <td>0.0</td>\n",
              "      <td>normal.</td>\n",
              "    </tr>\n",
              "    <tr>\n",
              "      <th>0</th>\n",
              "      <td>udp</td>\n",
              "      <td>private</td>\n",
              "      <td>SF</td>\n",
              "      <td>105</td>\n",
              "      <td>146</td>\n",
              "      <td>0</td>\n",
              "      <td>0</td>\n",
              "      <td>0</td>\n",
              "      <td>0</td>\n",
              "      <td>0</td>\n",
              "      <td>...</td>\n",
              "      <td>254</td>\n",
              "      <td>1.0</td>\n",
              "      <td>0.01</td>\n",
              "      <td>0.00</td>\n",
              "      <td>0.0</td>\n",
              "      <td>0.0</td>\n",
              "      <td>0.0</td>\n",
              "      <td>0.0</td>\n",
              "      <td>0.0</td>\n",
              "      <td>normal.</td>\n",
              "    </tr>\n",
              "    <tr>\n",
              "      <th>0</th>\n",
              "      <td>udp</td>\n",
              "      <td>private</td>\n",
              "      <td>SF</td>\n",
              "      <td>105</td>\n",
              "      <td>146</td>\n",
              "      <td>0</td>\n",
              "      <td>0</td>\n",
              "      <td>0</td>\n",
              "      <td>0</td>\n",
              "      <td>0</td>\n",
              "      <td>...</td>\n",
              "      <td>254</td>\n",
              "      <td>1.0</td>\n",
              "      <td>0.01</td>\n",
              "      <td>0.00</td>\n",
              "      <td>0.0</td>\n",
              "      <td>0.0</td>\n",
              "      <td>0.0</td>\n",
              "      <td>0.0</td>\n",
              "      <td>0.0</td>\n",
              "      <td>normal.</td>\n",
              "    </tr>\n",
              "    <tr>\n",
              "      <th>0</th>\n",
              "      <td>udp</td>\n",
              "      <td>private</td>\n",
              "      <td>SF</td>\n",
              "      <td>105</td>\n",
              "      <td>146</td>\n",
              "      <td>0</td>\n",
              "      <td>0</td>\n",
              "      <td>0</td>\n",
              "      <td>0</td>\n",
              "      <td>0</td>\n",
              "      <td>...</td>\n",
              "      <td>254</td>\n",
              "      <td>1.0</td>\n",
              "      <td>0.01</td>\n",
              "      <td>0.00</td>\n",
              "      <td>0.0</td>\n",
              "      <td>0.0</td>\n",
              "      <td>0.0</td>\n",
              "      <td>0.0</td>\n",
              "      <td>0.0</td>\n",
              "      <td>snmpgetattack.</td>\n",
              "    </tr>\n",
              "    <tr>\n",
              "      <th>0</th>\n",
              "      <td>udp</td>\n",
              "      <td>private</td>\n",
              "      <td>SF</td>\n",
              "      <td>105</td>\n",
              "      <td>146</td>\n",
              "      <td>0</td>\n",
              "      <td>0</td>\n",
              "      <td>0</td>\n",
              "      <td>0</td>\n",
              "      <td>0</td>\n",
              "      <td>...</td>\n",
              "      <td>254</td>\n",
              "      <td>1.0</td>\n",
              "      <td>0.01</td>\n",
              "      <td>0.01</td>\n",
              "      <td>0.0</td>\n",
              "      <td>0.0</td>\n",
              "      <td>0.0</td>\n",
              "      <td>0.0</td>\n",
              "      <td>0.0</td>\n",
              "      <td>snmpgetattack.</td>\n",
              "    </tr>\n",
              "  </tbody>\n",
              "</table>\n",
              "<p>5 rows × 41 columns</p>\n",
              "</div>\n",
              "      <button class=\"colab-df-convert\" onclick=\"convertToInteractive('df-5eb1e2d0-e3eb-4d13-839e-0b75c4892df4')\"\n",
              "              title=\"Convert this dataframe to an interactive table.\"\n",
              "              style=\"display:none;\">\n",
              "        \n",
              "  <svg xmlns=\"http://www.w3.org/2000/svg\" height=\"24px\"viewBox=\"0 0 24 24\"\n",
              "       width=\"24px\">\n",
              "    <path d=\"M0 0h24v24H0V0z\" fill=\"none\"/>\n",
              "    <path d=\"M18.56 5.44l.94 2.06.94-2.06 2.06-.94-2.06-.94-.94-2.06-.94 2.06-2.06.94zm-11 1L8.5 8.5l.94-2.06 2.06-.94-2.06-.94L8.5 2.5l-.94 2.06-2.06.94zm10 10l.94 2.06.94-2.06 2.06-.94-2.06-.94-.94-2.06-.94 2.06-2.06.94z\"/><path d=\"M17.41 7.96l-1.37-1.37c-.4-.4-.92-.59-1.43-.59-.52 0-1.04.2-1.43.59L10.3 9.45l-7.72 7.72c-.78.78-.78 2.05 0 2.83L4 21.41c.39.39.9.59 1.41.59.51 0 1.02-.2 1.41-.59l7.78-7.78 2.81-2.81c.8-.78.8-2.07 0-2.86zM5.41 20L4 18.59l7.72-7.72 1.47 1.35L5.41 20z\"/>\n",
              "  </svg>\n",
              "      </button>\n",
              "      \n",
              "  <style>\n",
              "    .colab-df-container {\n",
              "      display:flex;\n",
              "      flex-wrap:wrap;\n",
              "      gap: 12px;\n",
              "    }\n",
              "\n",
              "    .colab-df-convert {\n",
              "      background-color: #E8F0FE;\n",
              "      border: none;\n",
              "      border-radius: 50%;\n",
              "      cursor: pointer;\n",
              "      display: none;\n",
              "      fill: #1967D2;\n",
              "      height: 32px;\n",
              "      padding: 0 0 0 0;\n",
              "      width: 32px;\n",
              "    }\n",
              "\n",
              "    .colab-df-convert:hover {\n",
              "      background-color: #E2EBFA;\n",
              "      box-shadow: 0px 1px 2px rgba(60, 64, 67, 0.3), 0px 1px 3px 1px rgba(60, 64, 67, 0.15);\n",
              "      fill: #174EA6;\n",
              "    }\n",
              "\n",
              "    [theme=dark] .colab-df-convert {\n",
              "      background-color: #3B4455;\n",
              "      fill: #D2E3FC;\n",
              "    }\n",
              "\n",
              "    [theme=dark] .colab-df-convert:hover {\n",
              "      background-color: #434B5C;\n",
              "      box-shadow: 0px 1px 3px 1px rgba(0, 0, 0, 0.15);\n",
              "      filter: drop-shadow(0px 1px 2px rgba(0, 0, 0, 0.3));\n",
              "      fill: #FFFFFF;\n",
              "    }\n",
              "  </style>\n",
              "\n",
              "      <script>\n",
              "        const buttonEl =\n",
              "          document.querySelector('#df-5eb1e2d0-e3eb-4d13-839e-0b75c4892df4 button.colab-df-convert');\n",
              "        buttonEl.style.display =\n",
              "          google.colab.kernel.accessAllowed ? 'block' : 'none';\n",
              "\n",
              "        async function convertToInteractive(key) {\n",
              "          const element = document.querySelector('#df-5eb1e2d0-e3eb-4d13-839e-0b75c4892df4');\n",
              "          const dataTable =\n",
              "            await google.colab.kernel.invokeFunction('convertToInteractive',\n",
              "                                                     [key], {});\n",
              "          if (!dataTable) return;\n",
              "\n",
              "          const docLinkHtml = 'Like what you see? Visit the ' +\n",
              "            '<a target=\"_blank\" href=https://colab.research.google.com/notebooks/data_table.ipynb>data table notebook</a>'\n",
              "            + ' to learn more about interactive tables.';\n",
              "          element.innerHTML = '';\n",
              "          dataTable['output_type'] = 'display_data';\n",
              "          await google.colab.output.renderOutput(dataTable, element);\n",
              "          const docLink = document.createElement('div');\n",
              "          docLink.innerHTML = docLinkHtml;\n",
              "          element.appendChild(docLink);\n",
              "        }\n",
              "      </script>\n",
              "    </div>\n",
              "  </div>\n",
              "  "
            ]
          },
          "metadata": {},
          "execution_count": 6
        }
      ],
      "source": [
        "path = \"/content/drive/MyDrive/Colab Notebooks/Anomaly Detection/corrected.gz\"\n",
        "df_test = pd.read_csv(path, compression='gzip', names=features, header=None)\n",
        "df_test.head()"
      ]
    },
    {
      "cell_type": "code",
      "execution_count": 7,
      "metadata": {
        "id": "XCP7KBTEIxst"
      },
      "outputs": [],
      "source": [
        "# To concatenate train and test sets\n",
        "vertical_concat = pd.concat([df, df_test], axis=0)"
      ]
    },
    {
      "cell_type": "code",
      "execution_count": 8,
      "metadata": {
        "id": "i0FrAmOBJI7E",
        "colab": {
          "base_uri": "https://localhost:8080/",
          "height": 299
        },
        "outputId": "61c1917c-07fa-4b9e-dd14-45f157a1d1f9"
      },
      "outputs": [
        {
          "output_type": "execute_result",
          "data": {
            "text/plain": [
              "   protocol_type  service  flag  src_bytes  dst_bytes  land  wrong_fragment  \\\n",
              "0              1       11     0        105        147     0               0   \n",
              "0              1       11     0        105        147     0               0   \n",
              "0              1       11     0        105        147     0               0   \n",
              "0              1       11     0        105        147     0               0   \n",
              "0              1       11     0        105        147     0               0   \n",
              "\n",
              "   urgent  hot  num_failed_logins  ...  dst_host_srv_count  \\\n",
              "0       0    0                  0  ...                 255   \n",
              "0       0    0                  0  ...                 255   \n",
              "0       0    0                  0  ...                 255   \n",
              "0       0    0                  0  ...                 255   \n",
              "0       0    0                  0  ...                 255   \n",
              "\n",
              "   dst_host_same_srv_rate  dst_host_diff_srv_rate  \\\n",
              "0                     1.0                     0.0   \n",
              "0                     1.0                     0.0   \n",
              "0                     1.0                     0.0   \n",
              "0                     1.0                     0.0   \n",
              "0                     1.0                     0.0   \n",
              "\n",
              "   dst_host_same_src_port_rate  dst_host_srv_diff_host_rate  \\\n",
              "0                         0.01                          0.0   \n",
              "0                         0.01                          0.0   \n",
              "0                         0.01                          0.0   \n",
              "0                         0.01                          0.0   \n",
              "0                         0.01                          0.0   \n",
              "\n",
              "   dst_host_serror_rate  dst_host_srv_serror_rate  dst_host_rerror_rate  \\\n",
              "0                   0.0                       0.0                   0.0   \n",
              "0                   0.0                       0.0                   0.0   \n",
              "0                   0.0                       0.0                   0.0   \n",
              "0                   0.0                       0.0                   0.0   \n",
              "0                   0.0                       0.0                   0.0   \n",
              "\n",
              "   dst_host_srv_rerror_rate  attack_type  \n",
              "0                       0.0            0  \n",
              "0                       0.0            0  \n",
              "0                       0.0            0  \n",
              "0                       0.0            0  \n",
              "0                       0.0            0  \n",
              "\n",
              "[5 rows x 41 columns]"
            ],
            "text/html": [
              "\n",
              "  <div id=\"df-2a4f00ce-217b-46e2-9301-7003bed6bf13\">\n",
              "    <div class=\"colab-df-container\">\n",
              "      <div>\n",
              "<style scoped>\n",
              "    .dataframe tbody tr th:only-of-type {\n",
              "        vertical-align: middle;\n",
              "    }\n",
              "\n",
              "    .dataframe tbody tr th {\n",
              "        vertical-align: top;\n",
              "    }\n",
              "\n",
              "    .dataframe thead th {\n",
              "        text-align: right;\n",
              "    }\n",
              "</style>\n",
              "<table border=\"1\" class=\"dataframe\">\n",
              "  <thead>\n",
              "    <tr style=\"text-align: right;\">\n",
              "      <th></th>\n",
              "      <th>protocol_type</th>\n",
              "      <th>service</th>\n",
              "      <th>flag</th>\n",
              "      <th>src_bytes</th>\n",
              "      <th>dst_bytes</th>\n",
              "      <th>land</th>\n",
              "      <th>wrong_fragment</th>\n",
              "      <th>urgent</th>\n",
              "      <th>hot</th>\n",
              "      <th>num_failed_logins</th>\n",
              "      <th>...</th>\n",
              "      <th>dst_host_srv_count</th>\n",
              "      <th>dst_host_same_srv_rate</th>\n",
              "      <th>dst_host_diff_srv_rate</th>\n",
              "      <th>dst_host_same_src_port_rate</th>\n",
              "      <th>dst_host_srv_diff_host_rate</th>\n",
              "      <th>dst_host_serror_rate</th>\n",
              "      <th>dst_host_srv_serror_rate</th>\n",
              "      <th>dst_host_rerror_rate</th>\n",
              "      <th>dst_host_srv_rerror_rate</th>\n",
              "      <th>attack_type</th>\n",
              "    </tr>\n",
              "  </thead>\n",
              "  <tbody>\n",
              "    <tr>\n",
              "      <th>0</th>\n",
              "      <td>1</td>\n",
              "      <td>11</td>\n",
              "      <td>0</td>\n",
              "      <td>105</td>\n",
              "      <td>147</td>\n",
              "      <td>0</td>\n",
              "      <td>0</td>\n",
              "      <td>0</td>\n",
              "      <td>0</td>\n",
              "      <td>0</td>\n",
              "      <td>...</td>\n",
              "      <td>255</td>\n",
              "      <td>1.0</td>\n",
              "      <td>0.0</td>\n",
              "      <td>0.01</td>\n",
              "      <td>0.0</td>\n",
              "      <td>0.0</td>\n",
              "      <td>0.0</td>\n",
              "      <td>0.0</td>\n",
              "      <td>0.0</td>\n",
              "      <td>0</td>\n",
              "    </tr>\n",
              "    <tr>\n",
              "      <th>0</th>\n",
              "      <td>1</td>\n",
              "      <td>11</td>\n",
              "      <td>0</td>\n",
              "      <td>105</td>\n",
              "      <td>147</td>\n",
              "      <td>0</td>\n",
              "      <td>0</td>\n",
              "      <td>0</td>\n",
              "      <td>0</td>\n",
              "      <td>0</td>\n",
              "      <td>...</td>\n",
              "      <td>255</td>\n",
              "      <td>1.0</td>\n",
              "      <td>0.0</td>\n",
              "      <td>0.01</td>\n",
              "      <td>0.0</td>\n",
              "      <td>0.0</td>\n",
              "      <td>0.0</td>\n",
              "      <td>0.0</td>\n",
              "      <td>0.0</td>\n",
              "      <td>0</td>\n",
              "    </tr>\n",
              "    <tr>\n",
              "      <th>0</th>\n",
              "      <td>1</td>\n",
              "      <td>11</td>\n",
              "      <td>0</td>\n",
              "      <td>105</td>\n",
              "      <td>147</td>\n",
              "      <td>0</td>\n",
              "      <td>0</td>\n",
              "      <td>0</td>\n",
              "      <td>0</td>\n",
              "      <td>0</td>\n",
              "      <td>...</td>\n",
              "      <td>255</td>\n",
              "      <td>1.0</td>\n",
              "      <td>0.0</td>\n",
              "      <td>0.01</td>\n",
              "      <td>0.0</td>\n",
              "      <td>0.0</td>\n",
              "      <td>0.0</td>\n",
              "      <td>0.0</td>\n",
              "      <td>0.0</td>\n",
              "      <td>0</td>\n",
              "    </tr>\n",
              "    <tr>\n",
              "      <th>0</th>\n",
              "      <td>1</td>\n",
              "      <td>11</td>\n",
              "      <td>0</td>\n",
              "      <td>105</td>\n",
              "      <td>147</td>\n",
              "      <td>0</td>\n",
              "      <td>0</td>\n",
              "      <td>0</td>\n",
              "      <td>0</td>\n",
              "      <td>0</td>\n",
              "      <td>...</td>\n",
              "      <td>255</td>\n",
              "      <td>1.0</td>\n",
              "      <td>0.0</td>\n",
              "      <td>0.01</td>\n",
              "      <td>0.0</td>\n",
              "      <td>0.0</td>\n",
              "      <td>0.0</td>\n",
              "      <td>0.0</td>\n",
              "      <td>0.0</td>\n",
              "      <td>0</td>\n",
              "    </tr>\n",
              "    <tr>\n",
              "      <th>0</th>\n",
              "      <td>1</td>\n",
              "      <td>11</td>\n",
              "      <td>0</td>\n",
              "      <td>105</td>\n",
              "      <td>147</td>\n",
              "      <td>0</td>\n",
              "      <td>0</td>\n",
              "      <td>0</td>\n",
              "      <td>0</td>\n",
              "      <td>0</td>\n",
              "      <td>...</td>\n",
              "      <td>255</td>\n",
              "      <td>1.0</td>\n",
              "      <td>0.0</td>\n",
              "      <td>0.01</td>\n",
              "      <td>0.0</td>\n",
              "      <td>0.0</td>\n",
              "      <td>0.0</td>\n",
              "      <td>0.0</td>\n",
              "      <td>0.0</td>\n",
              "      <td>0</td>\n",
              "    </tr>\n",
              "  </tbody>\n",
              "</table>\n",
              "<p>5 rows × 41 columns</p>\n",
              "</div>\n",
              "      <button class=\"colab-df-convert\" onclick=\"convertToInteractive('df-2a4f00ce-217b-46e2-9301-7003bed6bf13')\"\n",
              "              title=\"Convert this dataframe to an interactive table.\"\n",
              "              style=\"display:none;\">\n",
              "        \n",
              "  <svg xmlns=\"http://www.w3.org/2000/svg\" height=\"24px\"viewBox=\"0 0 24 24\"\n",
              "       width=\"24px\">\n",
              "    <path d=\"M0 0h24v24H0V0z\" fill=\"none\"/>\n",
              "    <path d=\"M18.56 5.44l.94 2.06.94-2.06 2.06-.94-2.06-.94-.94-2.06-.94 2.06-2.06.94zm-11 1L8.5 8.5l.94-2.06 2.06-.94-2.06-.94L8.5 2.5l-.94 2.06-2.06.94zm10 10l.94 2.06.94-2.06 2.06-.94-2.06-.94-.94-2.06-.94 2.06-2.06.94z\"/><path d=\"M17.41 7.96l-1.37-1.37c-.4-.4-.92-.59-1.43-.59-.52 0-1.04.2-1.43.59L10.3 9.45l-7.72 7.72c-.78.78-.78 2.05 0 2.83L4 21.41c.39.39.9.59 1.41.59.51 0 1.02-.2 1.41-.59l7.78-7.78 2.81-2.81c.8-.78.8-2.07 0-2.86zM5.41 20L4 18.59l7.72-7.72 1.47 1.35L5.41 20z\"/>\n",
              "  </svg>\n",
              "      </button>\n",
              "      \n",
              "  <style>\n",
              "    .colab-df-container {\n",
              "      display:flex;\n",
              "      flex-wrap:wrap;\n",
              "      gap: 12px;\n",
              "    }\n",
              "\n",
              "    .colab-df-convert {\n",
              "      background-color: #E8F0FE;\n",
              "      border: none;\n",
              "      border-radius: 50%;\n",
              "      cursor: pointer;\n",
              "      display: none;\n",
              "      fill: #1967D2;\n",
              "      height: 32px;\n",
              "      padding: 0 0 0 0;\n",
              "      width: 32px;\n",
              "    }\n",
              "\n",
              "    .colab-df-convert:hover {\n",
              "      background-color: #E2EBFA;\n",
              "      box-shadow: 0px 1px 2px rgba(60, 64, 67, 0.3), 0px 1px 3px 1px rgba(60, 64, 67, 0.15);\n",
              "      fill: #174EA6;\n",
              "    }\n",
              "\n",
              "    [theme=dark] .colab-df-convert {\n",
              "      background-color: #3B4455;\n",
              "      fill: #D2E3FC;\n",
              "    }\n",
              "\n",
              "    [theme=dark] .colab-df-convert:hover {\n",
              "      background-color: #434B5C;\n",
              "      box-shadow: 0px 1px 3px 1px rgba(0, 0, 0, 0.15);\n",
              "      filter: drop-shadow(0px 1px 2px rgba(0, 0, 0, 0.3));\n",
              "      fill: #FFFFFF;\n",
              "    }\n",
              "  </style>\n",
              "\n",
              "      <script>\n",
              "        const buttonEl =\n",
              "          document.querySelector('#df-2a4f00ce-217b-46e2-9301-7003bed6bf13 button.colab-df-convert');\n",
              "        buttonEl.style.display =\n",
              "          google.colab.kernel.accessAllowed ? 'block' : 'none';\n",
              "\n",
              "        async function convertToInteractive(key) {\n",
              "          const element = document.querySelector('#df-2a4f00ce-217b-46e2-9301-7003bed6bf13');\n",
              "          const dataTable =\n",
              "            await google.colab.kernel.invokeFunction('convertToInteractive',\n",
              "                                                     [key], {});\n",
              "          if (!dataTable) return;\n",
              "\n",
              "          const docLinkHtml = 'Like what you see? Visit the ' +\n",
              "            '<a target=\"_blank\" href=https://colab.research.google.com/notebooks/data_table.ipynb>data table notebook</a>'\n",
              "            + ' to learn more about interactive tables.';\n",
              "          element.innerHTML = '';\n",
              "          dataTable['output_type'] = 'display_data';\n",
              "          await google.colab.output.renderOutput(dataTable, element);\n",
              "          const docLink = document.createElement('div');\n",
              "          docLink.innerHTML = docLinkHtml;\n",
              "          element.appendChild(docLink);\n",
              "        }\n",
              "      </script>\n",
              "    </div>\n",
              "  </div>\n",
              "  "
            ]
          },
          "metadata": {},
          "execution_count": 8
        }
      ],
      "source": [
        "# getting all categorical columns\n",
        "cat_columns = df_test.select_dtypes(['object']).columns\n",
        "# converting all categorical columns to numeric\n",
        "vertical_concat[cat_columns] = vertical_concat[cat_columns].apply(lambda x: pd.factorize(x)[0])\n",
        "vertical_concat.tail()"
      ]
    },
    {
      "cell_type": "code",
      "execution_count": 9,
      "metadata": {
        "id": "ifYKIFDtMmDL"
      },
      "outputs": [],
      "source": [
        "# splitting the dataset again after encoding\n",
        "X_train = vertical_concat.iloc[:len(df),:]\n",
        "X_test = vertical_concat.iloc[len(df):,:]"
      ]
    },
    {
      "cell_type": "code",
      "source": [
        "print(vertical_concat['attack_type'].unique())\n",
        "print(X_train['attack_type'].unique())\n",
        "print(X_test['attack_type'].unique())"
      ],
      "metadata": {
        "id": "BVZlddL1DbSq",
        "outputId": "6d50380e-2a47-434e-a5b8-04b1e9e2cd2e",
        "colab": {
          "base_uri": "https://localhost:8080/"
        }
      },
      "execution_count": 10,
      "outputs": [
        {
          "output_type": "stream",
          "name": "stdout",
          "text": [
            "[ 0  1  2  3  4  5  6  7  8  9 10 11 12 13 14 15 16 17 18 19 20 21 22 23\n",
            " 24 25 26 27 28 29 30 31 32 33 34 35 36 37 38 39]\n",
            "[ 0  1  2  3  4  5  6  7  8  9 10 11 12 13 14 15 16 17 18 19 20 21 22]\n",
            "[ 0 23 24 25  5 10 18 26 27  6 28  1  9  7 29 16 30 19  3 15 31 32 33 34\n",
            " 17 22  4  2 14 13 35 36 37 12  8 11 38 39]\n"
          ]
        }
      ]
    },
    {
      "cell_type": "markdown",
      "source": [
        "### Dropping the duplicates"
      ],
      "metadata": {
        "id": "xc_3ecr4FaaQ"
      }
    },
    {
      "cell_type": "code",
      "source": [
        "print(f\"Shape of train set before dropping duplicates: {len(X_train)}\")\n",
        "print(f\"Shape of test set before dropping duplicates: {len(X_test)}\")\n",
        "X_train = X_train.drop_duplicates()\n",
        "X_test = X_test.drop_duplicates()\n",
        "print(f\"Shape of train set after dropping duplicates: {len(X_train)}\")\n",
        "print(f\"Shape of test set after dropping duplicates: {len(X_test)}\")\n",
        "labels_train = X_train['attack_type']\n",
        "labels_test = X_test['attack_type']"
      ],
      "metadata": {
        "id": "G2A09Jv5EB-Q",
        "outputId": "6fd57f12-5171-487f-c06f-aba6e880e6fe",
        "colab": {
          "base_uri": "https://localhost:8080/"
        }
      },
      "execution_count": 11,
      "outputs": [
        {
          "output_type": "stream",
          "name": "stdout",
          "text": [
            "Shape of train set before dropping duplicates: 494021\n",
            "Shape of test set before dropping duplicates: 311029\n",
            "Shape of train set after dropping duplicates: 143671\n",
            "Shape of test set after dropping duplicates: 77084\n"
          ]
        }
      ]
    },
    {
      "cell_type": "code",
      "execution_count": 12,
      "metadata": {
        "id": "hbtBed7KK2ua"
      },
      "outputs": [],
      "source": [
        "X_train = X_train.iloc[:,:-1].to_numpy()\n",
        "X_test = X_test.iloc[:,:-1].to_numpy()\n",
        "labels_train = labels_train.to_numpy()\n",
        "labels_test = labels_test.to_numpy()"
      ]
    },
    {
      "cell_type": "code",
      "execution_count": 13,
      "metadata": {
        "colab": {
          "base_uri": "https://localhost:8080/"
        },
        "id": "7ui801kwQH5R",
        "outputId": "42196c41-1229-4e4f-e1be-7976f4ab0b9f"
      },
      "outputs": [
        {
          "output_type": "stream",
          "name": "stdout",
          "text": [
            "(143671, 40)\n",
            "(77084, 40)\n"
          ]
        }
      ],
      "source": [
        "print(X_train.shape)\n",
        "print(X_test.shape)"
      ]
    },
    {
      "cell_type": "markdown",
      "metadata": {
        "id": "YxZsY-ksQwqY"
      },
      "source": [
        "## KMeans Clustering"
      ]
    },
    {
      "cell_type": "code",
      "execution_count": 14,
      "metadata": {
        "id": "i74Y1V3O3d4e"
      },
      "outputs": [],
      "source": [
        "class KMeansClustering():\n",
        "   def fit(self, X, Y, k, epsilon=0, maxIter=20):\n",
        "       self.pred = []\n",
        "       # initializing the error to be max at first\n",
        "       self.err = float('inf')  \n",
        "\n",
        "       # randomly initializing the centroids\n",
        "       self.centroid = [X[np.random.randint(0, X.shape[0])] for i in range(k)]\n",
        "       while maxIter > 0 and self.err > epsilon:\n",
        "          maxIter -= 1\n",
        "          self.cluster = [[] for i in range(k)]\n",
        "          self.cluster_truth = [[] for i in range(k)]\n",
        "          self.pred.clear()\n",
        "          # copying the old centroids\n",
        "          self.oldCentroid = copy.deepcopy(self.centroid)\n",
        "\n",
        "          # assigning each data point to closest cluster\n",
        "          y=0\n",
        "          for x in X:\n",
        "            minn, idx_min = float('inf'), 0\n",
        "            for i in range(k):\n",
        "              dist = np.linalg.norm(x-self.centroid[i]) ** 2\n",
        "              if dist < minn: minn, idx_min = dist, i\n",
        "            self.cluster[idx_min].append(x)\n",
        "            self.cluster_truth[idx_min].append(Y[y])\n",
        "            self.pred.append(idx_min)\n",
        "            y = y+1\n",
        "\n",
        "          # updating the centroids\n",
        "          for i in range(len(self.cluster)):\n",
        "            if len(self.cluster[i]) != 0: self.centroid[i] = np.mean(self.cluster[i], axis = 0)\n",
        "\n",
        "          # if centroids didn't change, then terminate\n",
        "          self.err = 0\n",
        "          for i in range(len(self.centroid)):\n",
        "           self.err += np.linalg.norm(self.centroid[i] - self.oldCentroid[i]) ** 2\n",
        "\n",
        "       return self.pred , self.cluster_truth, self.centroid\n",
        "\n",
        "   def predict(self, X_test):\n",
        "     predictions = []\n",
        "     for t in range(len(X_test)):   \n",
        "      dist = [np.linalg.norm(X_test[t]-self.centroid[i]) for i in range(k)]\n",
        "      # prediction is the one with the closest distance\n",
        "      predictions.append(np.argmin(dist)) \n",
        "     return predictions"
      ]
    },
    {
      "cell_type": "code",
      "execution_count": 15,
      "metadata": {
        "colab": {
          "base_uri": "https://localhost:8080/"
        },
        "id": "GllbB6B1CHnM",
        "outputId": "8aae99ba-2c9a-4879-9b87-2b025ac1b54c"
      },
      "outputs": [
        {
          "output_type": "stream",
          "name": "stdout",
          "text": [
            "(143671, 40)\n",
            "(73122, 40)\n"
          ]
        }
      ],
      "source": [
        "# To remove labels in X_test that are not in X_train\n",
        "train_unique_labels = np.unique(labels_train)\n",
        "test_unique_labels = np.unique(labels_test)\n",
        "b = [i for i in test_unique_labels if i not in train_unique_labels]\n",
        "\n",
        "for i in range(len(b)):\n",
        "   X_test = np.delete(X_test, np.where(labels_test == b[i]), axis = 0)\n",
        "   labels_test = np.delete(labels_test, np.where(labels_test == b[i]), axis = 0)\n",
        "print(X_train.shape)\n",
        "print(X_test.shape)"
      ]
    },
    {
      "cell_type": "code",
      "source": [
        "def purity(y, y_pred):\n",
        "  contingency_matrixx = contingency_matrix(y, y_pred)\n",
        "  num_total_elements = np.sum(contingency_matrixx)\n",
        "  prec_total = 0\n",
        "  for i in range (contingency_matrixx.shape[0]):\n",
        "    idxmax = np.argmax(contingency_matrixx[i])\n",
        "    num_elements_per_cluster = np.sum(contingency_matrixx[i])\n",
        "    prec = contingency_matrixx[i][idxmax] / num_elements_per_cluster\n",
        "    purity = num_elements_per_cluster / num_total_elements \n",
        "    prec_total += np.sum(np.multiply(prec , purity))\n",
        "  return prec_total"
      ],
      "metadata": {
        "id": "m5OLR6ftahrl"
      },
      "execution_count": 16,
      "outputs": []
    },
    {
      "cell_type": "code",
      "source": [
        "def Fscore(y, y_pred):\n",
        "  contingency_matrixx = contingency_matrix(y, y_pred)\n",
        "  F = np.zeros((contingency_matrixx.shape[0], 1))\n",
        "  num_total_elements = np.sum(contingency_matrixx)\n",
        "  for i in range (contingency_matrixx.shape[0]):\n",
        "    idxmax = np.argmax(contingency_matrixx[i])\n",
        "    num_elements_per_cluster = np.sum(contingency_matrixx[i])\n",
        "    prec = contingency_matrixx[i][idxmax] / num_elements_per_cluster\n",
        "    recall = contingency_matrixx[i][idxmax] / np.sum(contingency_matrixx[:, idxmax])\n",
        "    F[i] = 2 * (prec * recall) / (prec + recall)\n",
        "  fmeasure = np.sum(F) / F.shape[0]\n",
        "  return fmeasure"
      ],
      "metadata": {
        "id": "Kabl5at9fqf0"
      },
      "execution_count": 148,
      "outputs": []
    },
    {
      "cell_type": "code",
      "source": [
        "def entropy(y, y_pred):\n",
        "  contingency_matrixx = contingency_matrix(y, y_pred)\n",
        "  num_total_elements = np.sum(contingency_matrixx)\n",
        "  Entro = np.zeros((contingency_matrixx.shape[0],1))\n",
        "  for i in range (contingency_matrixx.shape[0]):\n",
        "    num_elements_per_cluster= np.sum(contingency_matrixx[i])\n",
        "    Entr = num_elements_per_cluster / num_total_elements\n",
        "    Entro[i] = -1 * math.log(Entr, 2) * Entr\n",
        "  Entropy =  np.sum(Entro) / Entro.shape[0]\n",
        "  return Entropy"
      ],
      "metadata": {
        "id": "vLrjVX07ucwa"
      },
      "execution_count": 18,
      "outputs": []
    },
    {
      "cell_type": "code",
      "execution_count": null,
      "metadata": {
        "colab": {
          "base_uri": "https://localhost:8080/"
        },
        "id": "cd5UPN1OVjxe",
        "outputId": "4052a8d4-b882-41e0-d93a-cc30cefc3846"
      },
      "outputs": [
        {
          "output_type": "stream",
          "name": "stdout",
          "text": [
            "Fmeasure 0.37450096995916304\n",
            "Entropy 0.02442695312731772\n",
            "Precision 0.6044295647695082\n"
          ]
        }
      ],
      "source": [
        "KMC = KMeansClustering()\n",
        "p, clustruth, cent = KMC.fit(X_train, labels_train, k=7)\n",
        "\n",
        "print(\"Fmeasure\",Fscore(p, labels_train))\n",
        "print(\"Entropy\",entropy(p, labels_train))\n",
        "print(\"Precision\", purity(p, labels_train))"
      ]
    },
    {
      "cell_type": "code",
      "source": [
        "KMC = KMeansClustering()\n",
        "p, clustruth, cent = KMC.fit(X_train, labels_train, k=15)\n",
        "\n",
        "print(\"Fmeasure\",Fscore(p, labels_train))\n",
        "print(\"Entropy\",entropy(p, labels_train))\n",
        "print(\"Precision\", purity(p, labels_train))"
      ],
      "metadata": {
        "id": "IWMe2TblRzdQ",
        "colab": {
          "base_uri": "https://localhost:8080/"
        },
        "outputId": "79920e68-fffa-44bf-da2f-3145d4d4d36a"
      },
      "execution_count": null,
      "outputs": [
        {
          "output_type": "stream",
          "name": "stdout",
          "text": [
            "Fmeasure 0.31409308577262324\n",
            "Entropy 0.14533441277275386\n",
            "Precision 0.8597768512782675\n"
          ]
        }
      ]
    },
    {
      "cell_type": "code",
      "source": [
        "KMC = KMeansClustering()\n",
        "p, clustruth, cent = KMC.fit(X_train, labels_train, k=23)\n",
        "\n",
        "print(\"Fmeasure\",Fscore(p, labels_train))\n",
        "print(\"Entropy\",entropy(p, labels_train))\n",
        "print(\"Precision\", purity(p, labels_train))"
      ],
      "metadata": {
        "colab": {
          "base_uri": "https://localhost:8080/"
        },
        "id": "xbCTiMHw--lG",
        "outputId": "cb65f101-5e14-40fb-dc30-1dd5e1391384"
      },
      "execution_count": null,
      "outputs": [
        {
          "output_type": "stream",
          "name": "stdout",
          "text": [
            "Fmeasure 0.22153746898910964\n",
            "Entropy 0.16246354165441276\n",
            "Precision 0.960722762422479\n"
          ]
        }
      ]
    },
    {
      "cell_type": "code",
      "source": [
        "KMC = KMeansClustering()\n",
        "p, clustruth, cent = KMC.fit(X_train, labels_train, k=31)\n",
        "\n",
        "print(\"Fmeasure\",Fscore(p, labels_train))\n",
        "print(\"Entropy\",entropy(p, labels_train))\n",
        "print(\"Precision\", purity(p, labels_train))"
      ],
      "metadata": {
        "colab": {
          "base_uri": "https://localhost:8080/"
        },
        "id": "yg--krAWfVyt",
        "outputId": "23c26b9d-12eb-4be8-be19-a3017f648366"
      },
      "execution_count": null,
      "outputs": [
        {
          "output_type": "stream",
          "name": "stdout",
          "text": [
            "Fmeasure 0.19410177011133953\n",
            "Entropy 0.13598904145476218\n",
            "Precision 0.9615649643978256\n"
          ]
        }
      ]
    },
    {
      "cell_type": "code",
      "source": [
        "KMC = KMeansClustering()\n",
        "p, clustruth, cent = KMC.fit(X_train, labels_train, k=45)\n",
        "\n",
        "print(\"Fmeasure\",Fscore(p, labels_train))\n",
        "print(\"Entropy\",entropy(p, labels_train))\n",
        "print(\"Precision\", purity(p, labels_train))"
      ],
      "metadata": {
        "colab": {
          "base_uri": "https://localhost:8080/"
        },
        "id": "pz7LWe2KfZjw",
        "outputId": "5887e6a4-e7bf-460d-a0e7-fd6c8475db54"
      },
      "execution_count": null,
      "outputs": [
        {
          "output_type": "stream",
          "name": "stdout",
          "text": [
            "Fmeasure 0.17028703926140817\n",
            "Entropy 0.1101438585744588\n",
            "Precision 0.9689498924626401\n"
          ]
        }
      ]
    },
    {
      "cell_type": "code",
      "source": [
        "X_train_red, X_test_red, y_train_red, y_test_red = train_test_split(X_train, labels_train, train_size=0.005, random_state=42, stratify=labels_train)"
      ],
      "metadata": {
        "id": "CGoYC6xHtzAO"
      },
      "execution_count": 19,
      "outputs": []
    },
    {
      "cell_type": "code",
      "source": [
        "np.unique(y_train_red)"
      ],
      "metadata": {
        "colab": {
          "base_uri": "https://localhost:8080/"
        },
        "id": "pMfOdM9gAcIb",
        "outputId": "b1af31df-a3fc-4f1d-f3a8-56817a130d89"
      },
      "execution_count": 20,
      "outputs": [
        {
          "output_type": "execute_result",
          "data": {
            "text/plain": [
              "array([ 0,  4,  5,  7,  8,  9, 10, 13, 15, 17, 20])"
            ]
          },
          "metadata": {},
          "execution_count": 20
        }
      ]
    },
    {
      "cell_type": "code",
      "source": [
        "def normcut(F,k,gamma,kernel = True):\n",
        "    if kernel == True:\n",
        "        kern = rbf_kernel(F, gamma=gamma)\n",
        "    else:\n",
        "        kern = kneighbors_graph(F,k).toarray()\n",
        "    kern = np.array(kern)\n",
        "    degree = np.zeros(len(kern))\n",
        "    c_sum = kern.sum(axis = 0)\n",
        "    r_sum = kern.sum(axis = 1)\n",
        "    for i in range(c_sum.shape[0]):\n",
        "        degree[i] = (c_sum[i] + r_sum[i])/2\n",
        "    degree = np.diag(degree)\n",
        "    kern = degree - kern\n",
        "    degree = np.linalg.inv(degree)\n",
        "    kern = np.matmul(degree,kern)\n",
        "    (evalues,evectors) = np.linalg.eig(kern)\n",
        "    idx = evalues.argsort()\n",
        "    evalues = [idx]\n",
        "    evectors = evectors[ : , idx]\n",
        "    evectors = evectors.T[:k]\n",
        "    normFactor = np.sqrt(np.sum(np.power(evectors,2),axis=1))\n",
        "    normFactor = normFactor.reshape((len(evectors),1))\n",
        "    for i in range(len(normFactor)):\n",
        "        if normFactor[i] == 0:\n",
        "            normFactor[i] = 1\n",
        "    Y = np.real(evectors/normFactor).T\n",
        "    return Y, KMeans(n_clusters=k).fit(Y).labels_"
      ],
      "metadata": {
        "id": "jV-LHxUiAtTU"
      },
      "execution_count": 21,
      "outputs": []
    },
    {
      "cell_type": "code",
      "source": [
        "(Y_h , labels_h) = normcut(X_train_red, 23, 0.01, kernel = False)"
      ],
      "metadata": {
        "id": "5qIOQT0rBMWD",
        "colab": {
          "base_uri": "https://localhost:8080/"
        },
        "outputId": "a3c6690d-beba-4e97-a497-caa3e0a42fbd"
      },
      "execution_count": 144,
      "outputs": [
        {
          "output_type": "stream",
          "name": "stderr",
          "text": [
            "/usr/local/lib/python3.9/dist-packages/sklearn/cluster/_kmeans.py:870: FutureWarning: The default value of `n_init` will change from 10 to 'auto' in 1.4. Set the value of `n_init` explicitly to suppress the warning\n",
            "  warnings.warn(\n"
          ]
        }
      ]
    },
    {
      "cell_type": "code",
      "source": [
        "print(\"Fmeasure\",Fscore(labels_h, y_train_red))\n",
        "print(\"Entropy\",entropy(labels_h, y_train_red))\n",
        "print(\"Precision\", purity(labels_h, y_train_red))"
      ],
      "metadata": {
        "colab": {
          "base_uri": "https://localhost:8080/"
        },
        "id": "4ONNbtSCcWk0",
        "outputId": "c3b2dbe0-5714-4f9f-d0ad-e97c8ab7aaf8"
      },
      "execution_count": 149,
      "outputs": [
        {
          "output_type": "stream",
          "name": "stdout",
          "text": [
            "Fmeasure 0.24158958050478208\n",
            "Entropy 0.16317821287475448\n",
            "Precision 0.9637883008356547\n"
          ]
        }
      ]
    },
    {
      "cell_type": "markdown",
      "source": [
        "## New Clustering Algorithm (Agglomerative Hierarchical Clustering)"
      ],
      "metadata": {
        "id": "CXik3_S_sewa"
      }
    },
    {
      "cell_type": "code",
      "source": [
        "def isThere(arr, listOfArr):\n",
        "  if arr is None: return False\n",
        "  for arr2 in listOfArr:\n",
        "    if np.array_equal(arr.ravel(), arr2.ravel()): return True\n",
        "  return False"
      ],
      "metadata": {
        "id": "qAZQ_SOrUaTX"
      },
      "execution_count": 134,
      "outputs": []
    },
    {
      "cell_type": "code",
      "source": [
        "def convertClusterToLabels(X, clusters):\n",
        "  l = []\n",
        "  for point in X: \n",
        "    for i in range(len(clusters)):\n",
        "      if isThere(point, clusters[i]): l.append(i)\n",
        "  return l"
      ],
      "metadata": {
        "id": "2NyLlIrMUaTZ"
      },
      "execution_count": 135,
      "outputs": []
    },
    {
      "cell_type": "markdown",
      "source": [
        "### Original algorithm"
      ],
      "metadata": {
        "id": "zOLoh9_tGu9V"
      }
    },
    {
      "cell_type": "code",
      "source": [
        "def computeDistance(cluster1, cluster2):\n",
        "  dist = 0\n",
        "  for c1 in cluster1:\n",
        "    for c2 in cluster2:\n",
        "      dist += np.linalg.norm(np.array(c1)-np.array(c2))\n",
        "  return dist"
      ],
      "metadata": {
        "id": "0BB6Q5uNswXT"
      },
      "execution_count": 22,
      "outputs": []
    },
    {
      "cell_type": "code",
      "source": [
        "def computeProximityMatrix(clusters):\n",
        "  proxMat = np.zeros((len(clusters), len(clusters)), dtype=np.int8)\n",
        "  for i in range(len(clusters)):\n",
        "    print(i)\n",
        "    for j in range(len(clusters)):\n",
        "      proxMat[i, j] = computeDistance(clusters[i], clusters[j])\n",
        "  return proxMat"
      ],
      "metadata": {
        "id": "VfwiNCD2syyL"
      },
      "execution_count": 23,
      "outputs": []
    },
    {
      "cell_type": "code",
      "source": [
        "def updateProximityMatrix(distance, clusters, ij, i, j, type=\"ward\"):\n",
        "  for r in range(len(distance)-1):\n",
        "    if r != i and r != j:\n",
        "      # ward calculations\n",
        "      if type == \"ward\":\n",
        "        ni, nj, nr = len(clusters[i]), len(clusters[j]), 0\n",
        "        for cluster in clusters: nr += len(cluster)\n",
        "        alphai = (ni + nr) / (ni + nj + nr)\n",
        "        alphaj = (nj + nr) / (ni + nj + nr)\n",
        "        beta = -nr / (ni + nj + nr)\n",
        "        gamma = 0\n",
        "      # single link caluclations\n",
        "      else: alphai, alphaj, beta, gamma = 0.5, 0.5, 0, -0.5\n",
        "      distance[ij, r] = alphai*distance[i, r] + alphaj*distance[j, r] + beta*distance[i, j] + gamma*abs(distance[i, r] - distance[j, r])\n",
        "      distance[r, ij] = alphai*distance[r, i] + alphaj*distance[r, j] + beta*distance[j, i] + gamma*abs(distance[r, i] - distance[r, j])\n",
        "  distance = np.delete(distance, i, 0)\n",
        "  distance = np.delete(distance, j-1, 0)\n",
        "  distance = np.delete(distance, i, 1)\n",
        "  distance = np.delete(distance, j-1, 1)\n",
        "  return distance"
      ],
      "metadata": {
        "id": "oHk8tyHUs8lA"
      },
      "execution_count": 24,
      "outputs": []
    },
    {
      "cell_type": "code",
      "source": [
        "def agglomerativeClustering(D, k):\n",
        "  # creating a cluster for each point\n",
        "  clusters = [[D[i]] for i in range(len(D))]\n",
        "  # computing the distance matrix\n",
        "  # distance = computeProximityMatrix(clusters)\n",
        "  distance = pairwise_distances(D)\n",
        "  while len(clusters) > k:\n",
        "    # initializing big values to diagonal so that it won't be taken\n",
        "    distance[np.diag_indices_from(distance)] = float('inf')\n",
        "    # finding the closest pair of clusters, that are non zeros\n",
        "    idx = np.where(distance == distance.min())\n",
        "    i, j = idx[0][0], idx[1][0]\n",
        "    if i == j: return clusters\n",
        "    newCluster = np.vstack((clusters[i], clusters[j]))\n",
        "    # maintain their order while poping\n",
        "    i, j = (i, j) if i < j else (j, i)\n",
        "    clusters.pop(i)\n",
        "    clusters.pop(j-1)\n",
        "    clusters.append(newCluster)\n",
        "    distance = np.append(distance, np.zeros((1, len(distance))), axis=0)\n",
        "    distance = np.append(distance, np.zeros((len(distance), 1)), axis=1)\n",
        "    # updating the distance matrix\n",
        "    distance = updateProximityMatrix(distance, clusters, len(distance)-1, i, j, type=\"ward\")\n",
        "  return clusters"
      ],
      "metadata": {
        "id": "KqJmwAd7MN2i"
      },
      "execution_count": 132,
      "outputs": []
    },
    {
      "cell_type": "code",
      "source": [
        "clusters = agglomerativeClustering(X_train_red, 23)"
      ],
      "metadata": {
        "id": "H7g5F7ULI-np"
      },
      "execution_count": 133,
      "outputs": []
    },
    {
      "cell_type": "code",
      "source": [
        "p = convertClusterToLabels(X_train_red, clusters)\n",
        "\n",
        "print(\"Fmeasure\",Fscore(p, y_train_red))\n",
        "print(\"Entropy\",entropy(p, y_train_red))\n",
        "print(\"Precision\", purity(p, y_train_red))"
      ],
      "metadata": {
        "colab": {
          "base_uri": "https://localhost:8080/"
        },
        "id": "sZOFEumaSCfZ",
        "outputId": "a5b53a59-ec3d-4330-863f-4399fa420608"
      },
      "execution_count": 136,
      "outputs": [
        {
          "output_type": "stream",
          "name": "stdout",
          "text": [
            "Fmeasure 0.18147843300119568\n",
            "Entropy 0.17527092498195668\n",
            "Precision 0.9484679665738162\n"
          ]
        }
      ]
    },
    {
      "cell_type": "markdown",
      "source": [
        "## New Clustering Algorithm (Mini-batch Kmeans Clustering)"
      ],
      "metadata": {
        "id": "cH2fhiRLXokx"
      }
    },
    {
      "cell_type": "markdown",
      "source": [
        "#### But the previous algorithm takes too much space to compute the distance matrix, so we will use a simpler faster algorithm like minibatch kmeans"
      ],
      "metadata": {
        "id": "_vuXq9NlG-2I"
      }
    },
    {
      "cell_type": "code",
      "source": [
        "def createBatchDataset(D, batch_size):\n",
        "  indices = random.sample(range(0, len(D)-1), batch_size)\n",
        "  return D[indices]"
      ],
      "metadata": {
        "id": "GsYQUiUlHSkg"
      },
      "execution_count": 74,
      "outputs": []
    },
    {
      "cell_type": "code",
      "source": [
        "def updateStep(M, cluster, centroid):\n",
        "  # assigning each data point to closest cluster\n",
        "  for x in M:\n",
        "    minn, j = float('inf'), 0\n",
        "    for i in range(len(centroid)):\n",
        "      dist = np.linalg.norm(x-centroid[i]) ** 2\n",
        "      if dist < minn: minn, j = dist, i\n",
        "    cluster[j].append(x)\n",
        "  # updating the centroids\n",
        "  for i in range(len(cluster)):\n",
        "    if len(cluster[i]) != 0: centroid[i] = sum(cluster[i]) / len(cluster[i])\n",
        "  return cluster, centroid"
      ],
      "metadata": {
        "id": "_cLpzMcTX1dU"
      },
      "execution_count": 103,
      "outputs": []
    },
    {
      "cell_type": "code",
      "source": [
        "def minibatchKMC(X, k, batch_size, epsilon=0.001, maxIter=1000):\n",
        "  # initializing the error to be max at first\n",
        "  err = float('inf')\n",
        "  # randomly initializing the centroids\n",
        "  centroid = [X[np.random.randint(0, len(X)-1)] for i in range(k)]\n",
        "  while maxIter > 0 and err >= epsilon:\n",
        "    maxIter -= 1\n",
        "    cluster = [[] for i in range(k)]\n",
        "    # copying the old centroids\n",
        "    oldCentroid = copy.deepcopy(centroid)\n",
        "    # creating a batch dataset\n",
        "    batch_dataset = createBatchDataset(X, batch_size)\n",
        "    # updating clusters and centroids\n",
        "    cluster, centroid = updateStep(batch_dataset, cluster, centroid)\n",
        "    # if centroids didn't change, then terminate\n",
        "    err = 0\n",
        "    for i in range(len(centroid)):\n",
        "      err += np.linalg.norm(centroid[i] - oldCentroid[i]) ** 2\n",
        "  # updating clusters and centroids one last time on full data\n",
        "  cluster = [[] for i in range(k)]\n",
        "  cluster, centroid = updateStep(X, cluster, centroid)\n",
        "  return cluster"
      ],
      "metadata": {
        "id": "l4URD2FcX58t"
      },
      "execution_count": 104,
      "outputs": []
    },
    {
      "cell_type": "code",
      "source": [
        "def Fscore(y, y_pred):\n",
        "  contingency_matrixx = contingency_matrix(y, y_pred)\n",
        "  F = np.zeros((contingency_matrixx.shape[0], 1))\n",
        "  num_total_elements = np.sum(contingency_matrixx)\n",
        "  for i in range (contingency_matrixx.shape[0]):\n",
        "    idxmax = np.argmax(contingency_matrixx[i])\n",
        "    num_elements_per_cluster = np.sum(contingency_matrixx[i])\n",
        "    prec = contingency_matrixx[i][idxmax] / num_elements_per_cluster\n",
        "    recall = contingency_matrixx[i][idxmax] / np.sum(contingency_matrixx[:, idxmax])\n",
        "    F[i] = 2 * (prec * recall) / (prec + recall)\n",
        "  fmeasure = np.sum(F) / F.shape[0]\n",
        "  return fmeasure, prec, recall"
      ],
      "metadata": {
        "id": "Tantc9tWU1h5"
      },
      "execution_count": 141,
      "outputs": []
    },
    {
      "cell_type": "code",
      "source": [
        "clusters = minibatchKMC(X_train_red, k=23, batch_size=100, maxIter=100)"
      ],
      "metadata": {
        "id": "RL_0U4ZrX8Pt"
      },
      "execution_count": 139,
      "outputs": []
    },
    {
      "cell_type": "code",
      "source": [
        "p = convertClusterToLabels(X_train_red, clusters)\n",
        "\n",
        "print(\"Fmeasure\",Fscore(p, y_train_red))\n",
        "print(\"Entropy\",entropy(p, y_train_red))\n",
        "print(\"Precision\", purity(p, y_train_red))"
      ],
      "metadata": {
        "colab": {
          "base_uri": "https://localhost:8080/"
        },
        "id": "bptvdX5RPrLz",
        "outputId": "5b3db202-f4c7-469a-f316-e18da77e48f7"
      },
      "execution_count": 140,
      "outputs": [
        {
          "output_type": "stream",
          "name": "stdout",
          "text": [
            "Fmeasure 0.20460033187338092\n",
            "Entropy 0.14709848516778037\n",
            "Precision 0.923398328690808\n"
          ]
        }
      ]
    },
    {
      "cell_type": "code",
      "source": [
        "fm, prec, rec = Fscore(p, y_train_red)\n",
        "print(fm, prec, rec)"
      ],
      "metadata": {
        "colab": {
          "base_uri": "https://localhost:8080/"
        },
        "id": "fOpDqSdiP3Wx",
        "outputId": "8dce79c2-c851-411c-f7cc-e82e3a29a061"
      },
      "execution_count": 143,
      "outputs": [
        {
          "output_type": "stream",
          "name": "stdout",
          "text": [
            "0.20460033187338092 1.0 0.0069767441860465115\n"
          ]
        }
      ]
    },
    {
      "cell_type": "code",
      "source": [],
      "metadata": {
        "id": "f-2Jm9XdVkFP"
      },
      "execution_count": null,
      "outputs": []
    }
  ],
  "metadata": {
    "colab": {
      "provenance": []
    },
    "kernelspec": {
      "display_name": "Python 3",
      "name": "python3"
    },
    "language_info": {
      "name": "python"
    }
  },
  "nbformat": 4,
  "nbformat_minor": 0
}